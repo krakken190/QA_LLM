{
  "nbformat": 4,
  "nbformat_minor": 0,
  "metadata": {
    "colab": {
      "provenance": []
    },
    "kernelspec": {
      "name": "python3",
      "display_name": "Python 3"
    },
    "language_info": {
      "name": "python"
    }
  },
  "cells": [
    {
      "cell_type": "code",
      "execution_count": null,
      "metadata": {
        "id": "Rm5GJg-f0ddz"
      },
      "outputs": [],
      "source": [
        "import pandas as pd\n",
        "import numpy as np\n",
        "\n",
        "!pip install transformers"
      ]
    },
    {
      "cell_type": "code",
      "source": [
        "!pip install gradio"
      ],
      "metadata": {
        "id": "EF0WnYbw3qvp",
        "collapsed": true
      },
      "execution_count": null,
      "outputs": []
    },
    {
      "cell_type": "code",
      "source": [
        "import re\n",
        "import json\n",
        "\n",
        "def create_hierarchical_index(file_path):\n",
        "    with open(file_path, 'r', encoding='utf-8') as file:\n",
        "        content = file.read()\n",
        "\n",
        "    root = {\"name\": \"Textbook\", \"content\": \"\", \"children\": []}\n",
        "\n",
        "    # Spliting content into chapters\n",
        "    chapters = re.split(r'(?=Chapter \\d+)', content)\n",
        "\n",
        "    for chapter in chapters:\n",
        "        if chapter.strip():\n",
        "            chapter_match = re.match(r'Chapter (\\d+)', chapter)\n",
        "            if chapter_match:\n",
        "                chapter_num = chapter_match.group(1)\n",
        "                chapter_title = f\"Chapter {chapter_num}\"\n",
        "                chapter_content = chapter.strip()\n",
        "                chapter_node = {\"name\": chapter_title, \"content\": chapter_content, \"children\": []}\n",
        "\n",
        "                # Here splitting chapter into sections\n",
        "                sections = re.split(r'(?=(\\d+\\.\\d+))', chapter_content)\n",
        "\n",
        "                # Combining section numbers with their content\n",
        "                combined_sections = [\"\".join(i) for i in zip(sections[1::2], sections[2::2])]\n",
        "\n",
        "                for section in combined_sections:\n",
        "                    if section.strip():\n",
        "                        section_match = re.match(r'(\\d+\\.\\d+)', section)\n",
        "                        if section_match:\n",
        "                            section_num = section_match.group(1)\n",
        "                            section_title = f\"Section {section_num}\"\n",
        "                            section_content = section.strip()\n",
        "                            section_node = {\"name\": section_title, \"content\": section_content, \"children\": []}\n",
        "                            chapter_node[\"children\"].append(section_node)\n",
        "\n",
        "                root[\"children\"].append(chapter_node)\n",
        "\n",
        "    return root\n",
        "\n",
        "# Creating hierarchical indices for each book\n",
        "book_files = {\n",
        "    \"book1\": \"/content/book1.txt\",\n",
        "    \"book2\": \"/content/book2.txt\",\n",
        "    \"book3\": \"/content/book3.txt\"\n",
        "}\n",
        "\n",
        "hierarchical_indices = {}\n",
        "for book_name, file_path in book_files.items():\n",
        "    hierarchical_indices[book_name] = create_hierarchical_index(file_path)\n",
        "\n",
        "# Saving the hierarchical indices\n",
        "for book_name, index in hierarchical_indices.items():\n",
        "    with open(f'hierarchical_index_{book_name}.json', 'w', encoding='utf-8') as f:\n",
        "        json.dump(index, f, ensure_ascii=False, indent=2)"
      ],
      "metadata": {
        "id": "WnFmf_LrG3QA"
      },
      "execution_count": null,
      "outputs": []
    },
    {
      "cell_type": "code",
      "source": [
        "import gradio as gr\n",
        "from transformers import pipeline\n",
        "\n",
        "# Here we are load the pre-trained model for question answering\n",
        "nlp = pipeline(\"question-answering\", model=\"deepset/roberta-base-squad2\")\n",
        "\n",
        "# We will Load here the hierarchical indices for all books\n",
        "hierarchical_indices = {}\n",
        "for book_name in book_files.keys():\n",
        "    with open(f'hierarchical_index_{book_name}.json', 'r', encoding='utf-8') as f:\n",
        "        hierarchical_indices[book_name] = json.load(f)\n",
        "\n",
        "# Using this function we can extract content from the hierarchical tree\n",
        "def extract_content(node):\n",
        "    if node is None:\n",
        "        return ''\n",
        "\n",
        "    content = node.get('content', '')\n",
        "\n",
        "    for child in node.get('children', []):\n",
        "        child_content = extract_content(child)\n",
        "        if child_content:\n",
        "            content += ' ' + child_content\n",
        "\n",
        "    return content\n",
        "\n",
        "def answer_question(book_choice, question):\n",
        "    if book_choice not in hierarchical_indices:\n",
        "        return \"Invalid book choice\"\n",
        "\n",
        "    hierarchical_index = hierarchical_indices[book_choice]\n",
        "    context = extract_content(hierarchical_index)\n",
        "\n",
        "    if not context:\n",
        "        return \"The context for the question is empty.\"\n",
        "\n",
        "    # To answer the question\n",
        "    result = nlp(question=question, context=context)\n",
        "    return result['answer']\n",
        "\n",
        "# Gradio interface\n",
        "def main():\n",
        "    with gr.Blocks() as demo:\n",
        "        gr.Markdown(\"## Question Answering with Hierarchical Index\")\n",
        "\n",
        "        book_choice = gr.Dropdown(choices=list(book_files.keys()), label=\"Choose a Book\")\n",
        "        question = gr.Textbox(label=\"Enter your question\")\n",
        "        output = gr.Textbox(label=\"Answer\", interactive=False)\n",
        "\n",
        "        # Defining the interaction\n",
        "        question.submit(fn=answer_question, inputs=[book_choice, question], outputs=output)\n",
        "\n",
        "    demo.launch(share=False)\n",
        "\n",
        "main()"
      ],
      "metadata": {
        "id": "u5cqjIE-G5_T",
        "collapsed": true
      },
      "execution_count": null,
      "outputs": []
    }
  ]
}